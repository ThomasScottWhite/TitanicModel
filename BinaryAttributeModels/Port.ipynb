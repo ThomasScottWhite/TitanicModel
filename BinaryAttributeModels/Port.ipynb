{
 "cells": [
  {
   "cell_type": "code",
   "execution_count": 62,
   "metadata": {},
   "outputs": [],
   "source": [
    "import numpy as np\n",
    "import pandas as pd\n",
    "import os"
   ]
  },
  {
   "cell_type": "code",
   "execution_count": 63,
   "metadata": {},
   "outputs": [],
   "source": [
    "def normalize(df):\n",
    "    return (df/df.max())"
   ]
  },
  {
   "cell_type": "code",
   "execution_count": 64,
   "metadata": {},
   "outputs": [],
   "source": [
    "CompleteTrainingDF = pd.read_csv('../Data/train.csv')"
   ]
  },
  {
   "cell_type": "code",
   "execution_count": 65,
   "metadata": {},
   "outputs": [
    {
     "name": "stdout",
     "output_type": "stream",
     "text": [
      "     Cherbourg  Queenstown  Southampton\n",
      "600          0           0            1\n",
      "601          0           0            1\n",
      "602          0           0            1\n",
      "603          0           0            1\n",
      "604          1           0            0\n",
      "..         ...         ...          ...\n",
      "886          0           0            1\n",
      "887          0           0            1\n",
      "888          0           0            1\n",
      "889          1           0            0\n",
      "890          0           1            0\n",
      "\n",
      "[291 rows x 3 columns]\n"
     ]
    }
   ],
   "source": [
    "results = pd.get_dummies(CompleteTrainingDF.loc[600:,\"Embarked\"])\n",
    "results = results.rename(columns = {\"C\":\"Cherbourg\",\"Q\":\"Queenstown\",\"S\":\"Southampton\"})\n",
    "print(results)\n",
    "ytest = CompleteTrainingDF.loc[600:,[\"Survived\"]]\n",
    "ytest = ytest.values"
   ]
  },
  {
   "cell_type": "code",
   "execution_count": 66,
   "metadata": {},
   "outputs": [
    {
     "name": "stdout",
     "output_type": "stream",
     "text": [
      "291\n"
     ]
    }
   ],
   "source": [
    "print(ytest.size)"
   ]
  },
  {
   "cell_type": "code",
   "execution_count": 67,
   "metadata": {},
   "outputs": [
    {
     "name": "stdout",
     "output_type": "stream",
     "text": [
      "Cherbourg      0.680412\n",
      "Queenstown     0.591065\n",
      "Southampton    0.360825\n",
      "dtype: float64\n"
     ]
    }
   ],
   "source": [
    "numberCorrect = np.sum(results == ytest)\n",
    "print(numberCorrect/ytest.size)"
   ]
  }
 ],
 "metadata": {
  "kernelspec": {
   "display_name": "tf",
   "language": "python",
   "name": "python3"
  },
  "language_info": {
   "codemirror_mode": {
    "name": "ipython",
    "version": 3
   },
   "file_extension": ".py",
   "mimetype": "text/x-python",
   "name": "python",
   "nbconvert_exporter": "python",
   "pygments_lexer": "ipython3",
   "version": "3.9.16"
  },
  "orig_nbformat": 4,
  "vscode": {
   "interpreter": {
    "hash": "195df21f107b3141537afd459bf76e6121bd5670fde1661ed1aca71735316122"
   }
  }
 },
 "nbformat": 4,
 "nbformat_minor": 2
}

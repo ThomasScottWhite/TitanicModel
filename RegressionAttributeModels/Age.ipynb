{
 "cells": [
  {
   "cell_type": "code",
   "execution_count": 1,
   "metadata": {},
   "outputs": [],
   "source": [
    "import numpy as np\n",
    "import pandas as pd\n",
    "import os"
   ]
  },
  {
   "cell_type": "code",
   "execution_count": 2,
   "metadata": {},
   "outputs": [],
   "source": [
    "def normalize(df):\n",
    "    return (df/df.max())"
   ]
  },
  {
   "cell_type": "code",
   "execution_count": 3,
   "metadata": {},
   "outputs": [],
   "source": [
    "CompleteTrainingDF = pd.read_csv('../Data/train.csv')"
   ]
  },
  {
   "cell_type": "code",
   "execution_count": 4,
   "metadata": {},
   "outputs": [],
   "source": [
    "results = pd.get_dummies(CompleteTrainingDF.loc[600:,\"SibSp\"],prefix=\"Number\")\n",
    "ytest = CompleteTrainingDF.loc[600:,[\"Survived\"]]\n",
    "ytest = ytest.values"
   ]
  },
  {
   "cell_type": "code",
   "execution_count": 5,
   "metadata": {},
   "outputs": [
    {
     "name": "stdout",
     "output_type": "stream",
     "text": [
      "291\n"
     ]
    }
   ],
   "source": [
    "print(ytest.size)"
   ]
  },
  {
   "cell_type": "code",
   "execution_count": 6,
   "metadata": {},
   "outputs": [
    {
     "name": "stdout",
     "output_type": "stream",
     "text": [
      "Number_0    0.381443\n",
      "Number_1    0.649485\n",
      "Number_2    0.642612\n",
      "Number_3    0.628866\n",
      "Number_4    0.618557\n",
      "Number_5    0.632302\n",
      "Number_8    0.625430\n",
      "dtype: float64\n"
     ]
    }
   ],
   "source": [
    "numberCorrect = np.sum(results == ytest)\n",
    "print(numberCorrect/ytest.size)"
   ]
  }
 ],
 "metadata": {
  "kernelspec": {
   "display_name": "tf",
   "language": "python",
   "name": "python3"
  },
  "language_info": {
   "codemirror_mode": {
    "name": "ipython",
    "version": 3
   },
   "file_extension": ".py",
   "mimetype": "text/x-python",
   "name": "python",
   "nbconvert_exporter": "python",
   "pygments_lexer": "ipython3",
   "version": "3.9.16"
  },
  "orig_nbformat": 4,
  "vscode": {
   "interpreter": {
    "hash": "195df21f107b3141537afd459bf76e6121bd5670fde1661ed1aca71735316122"
   }
  }
 },
 "nbformat": 4,
 "nbformat_minor": 2
}

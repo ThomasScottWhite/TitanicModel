{
 "cells": [
  {
   "cell_type": "code",
   "execution_count": 1,
   "metadata": {},
   "outputs": [
    {
     "name": "stderr",
     "output_type": "stream",
     "text": [
      "2023-02-25 15:55:18.580478: I tensorflow/core/platform/cpu_feature_guard.cc:193] This TensorFlow binary is optimized with oneAPI Deep Neural Network Library (oneDNN) to use the following CPU instructions in performance-critical operations:  AVX2 AVX_VNNI FMA\n",
      "To enable them in other operations, rebuild TensorFlow with the appropriate compiler flags.\n",
      "2023-02-25 15:55:18.658746: I tensorflow/core/util/port.cc:104] oneDNN custom operations are on. You may see slightly different numerical results due to floating-point round-off errors from different computation orders. To turn them off, set the environment variable `TF_ENABLE_ONEDNN_OPTS=0`.\n",
      "2023-02-25 15:55:19.027516: W tensorflow/compiler/xla/stream_executor/platform/default/dso_loader.cc:64] Could not load dynamic library 'libnvinfer.so.7'; dlerror: libnvinfer.so.7: cannot open shared object file: No such file or directory; LD_LIBRARY_PATH: :/home/thomas/miniconda3/lib/:/home/thomas/miniconda3/lib/:/home/thomas/miniconda3/envs/tf/lib/\n",
      "2023-02-25 15:55:19.027579: W tensorflow/compiler/xla/stream_executor/platform/default/dso_loader.cc:64] Could not load dynamic library 'libnvinfer_plugin.so.7'; dlerror: libnvinfer_plugin.so.7: cannot open shared object file: No such file or directory; LD_LIBRARY_PATH: :/home/thomas/miniconda3/lib/:/home/thomas/miniconda3/lib/:/home/thomas/miniconda3/envs/tf/lib/\n",
      "2023-02-25 15:55:19.027583: W tensorflow/compiler/tf2tensorrt/utils/py_utils.cc:38] TF-TRT Warning: Cannot dlopen some TensorRT libraries. If you would like to use Nvidia GPU with TensorRT, please make sure the missing libraries mentioned above are installed properly.\n"
     ]
    }
   ],
   "source": [
    "import numpy as np\n",
    "import pandas as pd\n",
    "import matplotlib.pyplot as plt\n",
    "import tensorflow as tf\n",
    "from tensorflow import keras\n",
    "import os"
   ]
  },
  {
   "cell_type": "code",
   "execution_count": 2,
   "metadata": {},
   "outputs": [],
   "source": [
    "def normalize(df):\n",
    "    return (df/df.max())"
   ]
  },
  {
   "cell_type": "code",
   "execution_count": 3,
   "metadata": {},
   "outputs": [],
   "source": [
    "CompleteTrainingDF = pd.read_csv('Data/train.csv')"
   ]
  },
  {
   "cell_type": "code",
   "execution_count": 4,
   "metadata": {},
   "outputs": [],
   "source": [
    "TrainingDF = CompleteTrainingDF.loc[:,[\"Survived\",\"SibSp\",\"Parch\",\"Fare\"]]\n",
    "TrainingDF = pd.concat([TrainingDF,pd.get_dummies(CompleteTrainingDF[\"Embarked\"])],axis=1)\n",
    "TrainingDF = pd.concat([TrainingDF,pd.get_dummies(CompleteTrainingDF[\"Sex\"])],axis=1)\n",
    "TrainingDF = pd.concat([TrainingDF,pd.get_dummies(CompleteTrainingDF[\"Pclass\"],prefix=\"Class\")],axis=1)\n",
    "TrainingDF[\"Fare\"] = normalize(TrainingDF[\"Fare\"])"
   ]
  },
  {
   "cell_type": "code",
   "execution_count": 5,
   "metadata": {},
   "outputs": [
    {
     "name": "stdout",
     "output_type": "stream",
     "text": [
      "     Survived  SibSp  Parch      Fare  C  Q  S  female  male  Class_1  \\\n",
      "0           0      1      0  0.014151  0  0  1       0     1        0   \n",
      "1           1      1      0  0.139136  1  0  0       1     0        1   \n",
      "2           1      0      0  0.015469  0  0  1       1     0        0   \n",
      "3           1      1      0  0.103644  0  0  1       1     0        1   \n",
      "4           0      0      0  0.015713  0  0  1       0     1        0   \n",
      "..        ...    ...    ...       ... .. .. ..     ...   ...      ...   \n",
      "886         0      0      0  0.025374  0  0  1       0     1        0   \n",
      "887         1      0      0  0.058556  0  0  1       1     0        1   \n",
      "888         0      1      2  0.045771  0  0  1       1     0        0   \n",
      "889         1      0      0  0.058556  1  0  0       0     1        1   \n",
      "890         0      0      0  0.015127  0  1  0       0     1        0   \n",
      "\n",
      "     Class_2  Class_3  \n",
      "0          0        1  \n",
      "1          0        0  \n",
      "2          0        1  \n",
      "3          0        0  \n",
      "4          0        1  \n",
      "..       ...      ...  \n",
      "886        1        0  \n",
      "887        0        0  \n",
      "888        0        1  \n",
      "889        0        0  \n",
      "890        0        1  \n",
      "\n",
      "[891 rows x 12 columns]\n"
     ]
    }
   ],
   "source": [
    "print(TrainingDF)"
   ]
  },
  {
   "cell_type": "code",
   "execution_count": 6,
   "metadata": {},
   "outputs": [
    {
     "name": "stdout",
     "output_type": "stream",
     "text": [
      "(600, 11)\n",
      "(600, 1)\n",
      "(291, 11)\n",
      "(291, 1)\n"
     ]
    }
   ],
   "source": [
    "xtrain = TrainingDF.iloc[:600,1:] #Trims off ytrain\n",
    "ytrain = TrainingDF.iloc[:600,:1] #Trims off ytrain\n",
    "xtrain = xtrain.values\n",
    "ytrain = ytrain.values\n",
    "\n",
    "xtest = TrainingDF.iloc[600:,1:] #Trims off ytrain\n",
    "ytest = TrainingDF.iloc[600:,:1] #Trims off ytrain\n",
    "xtest = xtest.values\n",
    "ytest = ytest.values\n",
    "\n",
    "print(xtrain.shape)\n",
    "print(ytrain.shape)\n",
    "\n",
    "print(xtest.shape)\n",
    "print(ytest.shape)"
   ]
  },
  {
   "cell_type": "code",
   "execution_count": 7,
   "metadata": {},
   "outputs": [],
   "source": [
    "from tensorflow.keras.models import Sequential\n",
    "from tensorflow.keras.layers import Dense"
   ]
  },
  {
   "cell_type": "code",
   "execution_count": 8,
   "metadata": {},
   "outputs": [
    {
     "name": "stdout",
     "output_type": "stream",
     "text": [
      "Model: \"sequential\"\n",
      "_________________________________________________________________\n",
      " Layer (type)                Output Shape              Param #   \n",
      "=================================================================\n",
      " dense (Dense)               (None, 512)               6144      \n",
      "                                                                 \n",
      " dense_1 (Dense)             (None, 512)               262656    \n",
      "                                                                 \n",
      " dense_2 (Dense)             (None, 1)                 513       \n",
      "                                                                 \n",
      "=================================================================\n",
      "Total params: 269,313\n",
      "Trainable params: 269,313\n",
      "Non-trainable params: 0\n",
      "_________________________________________________________________\n"
     ]
    },
    {
     "name": "stderr",
     "output_type": "stream",
     "text": [
      "2023-02-25 15:55:19.620522: I tensorflow/compiler/xla/stream_executor/cuda/cuda_gpu_executor.cc:967] could not open file to read NUMA node: /sys/bus/pci/devices/0000:01:00.0/numa_node\n",
      "Your kernel may have been built without NUMA support.\n",
      "2023-02-25 15:55:19.624759: I tensorflow/compiler/xla/stream_executor/cuda/cuda_gpu_executor.cc:967] could not open file to read NUMA node: /sys/bus/pci/devices/0000:01:00.0/numa_node\n",
      "Your kernel may have been built without NUMA support.\n",
      "2023-02-25 15:55:19.624791: I tensorflow/compiler/xla/stream_executor/cuda/cuda_gpu_executor.cc:967] could not open file to read NUMA node: /sys/bus/pci/devices/0000:01:00.0/numa_node\n",
      "Your kernel may have been built without NUMA support.\n",
      "2023-02-25 15:55:19.625211: I tensorflow/core/platform/cpu_feature_guard.cc:193] This TensorFlow binary is optimized with oneAPI Deep Neural Network Library (oneDNN) to use the following CPU instructions in performance-critical operations:  AVX2 AVX_VNNI FMA\n",
      "To enable them in other operations, rebuild TensorFlow with the appropriate compiler flags.\n",
      "2023-02-25 15:55:19.627100: I tensorflow/compiler/xla/stream_executor/cuda/cuda_gpu_executor.cc:967] could not open file to read NUMA node: /sys/bus/pci/devices/0000:01:00.0/numa_node\n",
      "Your kernel may have been built without NUMA support.\n",
      "2023-02-25 15:55:19.627128: I tensorflow/compiler/xla/stream_executor/cuda/cuda_gpu_executor.cc:967] could not open file to read NUMA node: /sys/bus/pci/devices/0000:01:00.0/numa_node\n",
      "Your kernel may have been built without NUMA support.\n",
      "2023-02-25 15:55:19.627140: I tensorflow/compiler/xla/stream_executor/cuda/cuda_gpu_executor.cc:967] could not open file to read NUMA node: /sys/bus/pci/devices/0000:01:00.0/numa_node\n",
      "Your kernel may have been built without NUMA support.\n",
      "2023-02-25 15:55:20.097800: I tensorflow/compiler/xla/stream_executor/cuda/cuda_gpu_executor.cc:967] could not open file to read NUMA node: /sys/bus/pci/devices/0000:01:00.0/numa_node\n",
      "Your kernel may have been built without NUMA support.\n",
      "2023-02-25 15:55:20.097850: I tensorflow/compiler/xla/stream_executor/cuda/cuda_gpu_executor.cc:967] could not open file to read NUMA node: /sys/bus/pci/devices/0000:01:00.0/numa_node\n",
      "Your kernel may have been built without NUMA support.\n",
      "2023-02-25 15:55:20.097854: I tensorflow/core/common_runtime/gpu/gpu_device.cc:1700] Could not identify NUMA node of platform GPU id 0, defaulting to 0.  Your kernel may not have been built with NUMA support.\n",
      "2023-02-25 15:55:20.097871: I tensorflow/compiler/xla/stream_executor/cuda/cuda_gpu_executor.cc:967] could not open file to read NUMA node: /sys/bus/pci/devices/0000:01:00.0/numa_node\n",
      "Your kernel may have been built without NUMA support.\n",
      "2023-02-25 15:55:20.097897: I tensorflow/core/common_runtime/gpu/gpu_device.cc:1613] Created device /job:localhost/replica:0/task:0/device:GPU:0 with 9334 MB memory:  -> device: 0, name: NVIDIA GeForce RTX 4070 Ti, pci bus id: 0000:01:00.0, compute capability: 8.9\n"
     ]
    }
   ],
   "source": [
    "model = Sequential([\n",
    "Dense(units = 512, activation=\"relu\",input_shape=(11,)),\n",
    "Dense(units = 512, activation=\"relu\"),\n",
    "Dense(units = 1, activation=\"sigmoid\"),\n",
    "])\n",
    "model.summary()\n"
   ]
  },
  {
   "cell_type": "code",
   "execution_count": 9,
   "metadata": {},
   "outputs": [],
   "source": [
    "model.compile(loss=keras.losses.BinaryCrossentropy(from_logits=False), metrics=[tf.keras.metrics.BinaryAccuracy()], optimizer=\"adam\")"
   ]
  },
  {
   "cell_type": "code",
   "execution_count": 10,
   "metadata": {},
   "outputs": [
    {
     "name": "stdout",
     "output_type": "stream",
     "text": [
      "Epoch 1/10\n"
     ]
    },
    {
     "name": "stderr",
     "output_type": "stream",
     "text": [
      "2023-02-25 15:55:21.313822: I tensorflow/compiler/xla/stream_executor/cuda/cuda_blas.cc:630] TensorFloat-32 will be used for the matrix multiplication. This will only be logged once.\n",
      "2023-02-25 15:55:21.318175: I tensorflow/compiler/xla/service/service.cc:173] XLA service 0x7f2b5c020b20 initialized for platform CUDA (this does not guarantee that XLA will be used). Devices:\n",
      "2023-02-25 15:55:21.318211: I tensorflow/compiler/xla/service/service.cc:181]   StreamExecutor device (0): NVIDIA GeForce RTX 4070 Ti, Compute Capability 8.9\n",
      "2023-02-25 15:55:21.321564: I tensorflow/compiler/mlir/tensorflow/utils/dump_mlir_util.cc:268] disabling MLIR crash reproducer, set env var `MLIR_CRASH_REPRODUCER_DIRECTORY` to enable.\n",
      "2023-02-25 15:55:21.369768: W tensorflow/compiler/xla/stream_executor/gpu/asm_compiler.cc:234] Falling back to the CUDA driver for PTX compilation; ptxas does not support CC 8.9\n",
      "2023-02-25 15:55:21.369794: W tensorflow/compiler/xla/stream_executor/gpu/asm_compiler.cc:237] Used ptxas at ptxas\n",
      "2023-02-25 15:55:21.369840: W tensorflow/compiler/xla/service/gpu/nvptx_compiler.cc:281] Couldn't read CUDA driver version.\n",
      "2023-02-25 15:55:21.370320: I tensorflow/compiler/jit/xla_compilation_cache.cc:477] Compiled cluster using XLA!  This line is logged at most once for the lifetime of the process.\n"
     ]
    },
    {
     "name": "stdout",
     "output_type": "stream",
     "text": [
      "19/19 [==============================] - 1s 9ms/step - loss: 0.5342 - binary_accuracy: 0.7533 - val_loss: 0.4651 - val_binary_accuracy: 0.7973\n",
      "Epoch 2/10\n",
      "19/19 [==============================] - 0s 5ms/step - loss: 0.4611 - binary_accuracy: 0.8000 - val_loss: 0.4335 - val_binary_accuracy: 0.7973\n",
      "Epoch 3/10\n",
      "19/19 [==============================] - 0s 5ms/step - loss: 0.4428 - binary_accuracy: 0.8083 - val_loss: 0.4379 - val_binary_accuracy: 0.7938\n",
      "Epoch 4/10\n",
      "19/19 [==============================] - 0s 5ms/step - loss: 0.4358 - binary_accuracy: 0.8067 - val_loss: 0.4276 - val_binary_accuracy: 0.8007\n",
      "Epoch 5/10\n",
      "19/19 [==============================] - 0s 5ms/step - loss: 0.4295 - binary_accuracy: 0.8150 - val_loss: 0.4295 - val_binary_accuracy: 0.8041\n",
      "Epoch 6/10\n",
      "19/19 [==============================] - 0s 5ms/step - loss: 0.4250 - binary_accuracy: 0.8067 - val_loss: 0.4343 - val_binary_accuracy: 0.8110\n",
      "Epoch 7/10\n",
      "19/19 [==============================] - 0s 5ms/step - loss: 0.4272 - binary_accuracy: 0.8150 - val_loss: 0.4361 - val_binary_accuracy: 0.8076\n",
      "Epoch 8/10\n",
      "19/19 [==============================] - 0s 5ms/step - loss: 0.4245 - binary_accuracy: 0.8100 - val_loss: 0.4354 - val_binary_accuracy: 0.8041\n",
      "Epoch 9/10\n",
      "19/19 [==============================] - 0s 5ms/step - loss: 0.4239 - binary_accuracy: 0.8200 - val_loss: 0.4457 - val_binary_accuracy: 0.7938\n",
      "Epoch 10/10\n",
      "19/19 [==============================] - 0s 5ms/step - loss: 0.4245 - binary_accuracy: 0.8050 - val_loss: 0.4636 - val_binary_accuracy: 0.7938\n"
     ]
    }
   ],
   "source": [
    "history = model.fit(\n",
    "    xtrain, ytrain, epochs=10, verbose=1, validation_data=(xtest, ytest)\n",
    ")"
   ]
  }
 ],
 "metadata": {
  "kernelspec": {
   "display_name": "tf",
   "language": "python",
   "name": "python3"
  },
  "language_info": {
   "codemirror_mode": {
    "name": "ipython",
    "version": 3
   },
   "file_extension": ".py",
   "mimetype": "text/x-python",
   "name": "python",
   "nbconvert_exporter": "python",
   "pygments_lexer": "ipython3",
   "version": "3.9.16"
  },
  "orig_nbformat": 4,
  "vscode": {
   "interpreter": {
    "hash": "195df21f107b3141537afd459bf76e6121bd5670fde1661ed1aca71735316122"
   }
  }
 },
 "nbformat": 4,
 "nbformat_minor": 2
}
